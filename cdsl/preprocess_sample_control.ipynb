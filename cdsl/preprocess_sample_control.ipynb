{
 "cells": [
  {
   "attachments": {},
   "cell_type": "markdown",
   "metadata": {},
   "source": [
    "## Import packages"
   ]
  },
  {
   "cell_type": "code",
   "execution_count": 1,
   "metadata": {},
   "outputs": [],
   "source": [
    "import os\n",
    "from pathlib import Path\n",
    "import numpy as np\n",
    "import pandas as pd\n",
    "from sklearn.model_selection import train_test_split, StratifiedKFold\n",
    "from utils.tools import forward_fill_pipeline, normalize_dataframe, normalize_df_with_statistics, calculate_missing_rate, export_missing_mask_pipeline\n",
    "\n",
    "data_dir = \"./cdsl/\"\n",
    "Path(os.path.join(data_dir, 'processed')).mkdir(parents=True, exist_ok=True)\n",
    "Path(os.path.join(data_dir, 'statistics')).mkdir(parents=True, exist_ok=True)\n",
    "\n",
    "SEED = 42"
   ]
  },
  {
   "cell_type": "code",
   "execution_count": 2,
   "metadata": {},
   "outputs": [
    {
     "name": "stdout",
     "output_type": "stream",
     "text": [
      "Fold: 1\n",
      "Fold: 2\n",
      "Fold: 3\n",
      "Fold: 4\n",
      "Fold: 5\n",
      "Fold: 6\n",
      "Fold: 7\n",
      "Fold: 8\n",
      "Fold: 9\n"
     ]
    }
   ],
   "source": [
    "\"\"\"\n",
    "for fold_1 to fold_9, reduce sample size from 10% to 90%\n",
    "\"\"\"\n",
    "save_dir = os.path.join(data_dir, 'processed_sample', 'fold_0') # forward fill\n",
    "# Load the data\n",
    "train_x = pd.read_pickle(os.path.join(save_dir, \"train_x.pkl\"))\n",
    "train_y = pd.read_pickle(os.path.join(save_dir, \"train_y.pkl\"))\n",
    "\n",
    "train_x_ = []\n",
    "train_y_ = []\n",
    "for i in range(len(train_x)):\n",
    "    for j in range(len(train_x[i])):\n",
    "        cur_x = train_x[i][j]\n",
    "        cur_y = train_y[i][j]\n",
    "        train_x_.append((i, cur_x))\n",
    "        train_y_.append((i, cur_y))\n",
    "\n",
    "for fold in range(1, 10):\n",
    "\n",
    "    print(\"Fold: {}\".format(fold))\n",
    "\n",
    "    # Set the percentage to be dropped\n",
    "    drop_percentage = 0.1*fold\n",
    "\n",
    "    np.random.seed(42)\n",
    "    # Randomly select the indices to be dropped\n",
    "    drop_indices = np.random.choice(np.arange(len(train_x_)), int(len(train_x_) * drop_percentage))\n",
    "\n",
    "    # Drop the selected indices from the lists\n",
    "    fold_train_x_ = [train_x_[i] for i in range(len(train_x_)) if i not in drop_indices]\n",
    "    fold_train_y_ = [train_y_[i] for i in range(len(train_y_)) if i not in drop_indices]    \n",
    "\n",
    "    pid_ = []\n",
    "    x_ = []\n",
    "    y_ = []\n",
    "    for i in range(len(fold_train_x_)):\n",
    "        cur_pid = fold_train_x_[i][0]\n",
    "        cur_x = fold_train_x_[i][1]\n",
    "        cur_y = fold_train_y_[i][1]\n",
    "\n",
    "        if cur_pid not in pid_:\n",
    "            pid_.append(cur_pid)\n",
    "            x_.append([cur_x])\n",
    "            y_.append([cur_y])\n",
    "        else:\n",
    "            x_[pid_.index(cur_pid)].append(cur_x)\n",
    "            y_[pid_.index(cur_pid)].append(cur_y)\n",
    "\n",
    "    save_dir = os.path.join(data_dir, 'processed_sample', f'fold_{fold}') # forward fill\n",
    "    Path(save_dir).mkdir(parents=True, exist_ok=True)\n",
    "\n",
    "    pd.to_pickle(x_, os.path.join(save_dir, \"train_x.pkl\"))\n",
    "    pd.to_pickle(y_, os.path.join(save_dir, \"train_y.pkl\"))\n",
    "    pd.to_pickle(pid_, os.path.join(save_dir, \"train_pid.pkl\"))"
   ]
  }
 ],
 "metadata": {
  "kernelspec": {
   "display_name": "pytorch",
   "language": "python",
   "name": "python3"
  },
  "language_info": {
   "codemirror_mode": {
    "name": "ipython",
    "version": 3
   },
   "file_extension": ".py",
   "mimetype": "text/x-python",
   "name": "python",
   "nbconvert_exporter": "python",
   "pygments_lexer": "ipython3",
   "version": "3.11.4"
  },
  "orig_nbformat": 4
 },
 "nbformat": 4,
 "nbformat_minor": 2
}
